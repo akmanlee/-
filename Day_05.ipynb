{
 "cells": [
  {
   "cell_type": "markdown",
   "metadata": {},
   "source": [
    "# 总结和练习"
   ]
  },
  {
   "cell_type": "code",
   "execution_count": 1,
   "metadata": {
    "ExecuteTime": {
     "end_time": "2019-06-02T12:05:41.814762Z",
     "start_time": "2019-06-02T12:05:41.791761Z"
    }
   },
   "outputs": [
    {
     "name": "stdout",
     "output_type": "stream",
     "text": [
      "公鸡0只，母鸡25只，小鸡75只\n",
      "公鸡4只，母鸡18只，小鸡78只\n",
      "公鸡8只，母鸡11只，小鸡81只\n",
      "公鸡12只，母鸡4只，小鸡84只\n"
     ]
    }
   ],
   "source": [
    "\"\"\"\n",
    "求解《百钱百鸡》问题\n",
    "1只公鸡5元 1只母鸡3元 3只小鸡1元 用100元买100只鸡\n",
    "问公鸡 母鸡 小鸡各有多少只\n",
    "Version: 0.1\n",
    "Author: Akman Li\n",
    "Date: 2019-06-02\n",
    "\"\"\"\n",
    "\n",
    "#5x+3y+(100-x-y)/3=100\n",
    "for x in range(20):\n",
    "    for y in range(34):\n",
    "        z = 100-x-y\n",
    "        if 5*x + 3*y + z/3 == 100:\n",
    "            print('公鸡{}只，母鸡{}只，小鸡{}只'.format(x,y,z))"
   ]
  },
  {
   "cell_type": "code",
   "execution_count": 2,
   "metadata": {
    "ExecuteTime": {
     "end_time": "2019-06-02T12:05:53.147410Z",
     "start_time": "2019-06-02T12:05:41.816762Z"
    }
   },
   "outputs": [
    {
     "name": "stdout",
     "output_type": "stream",
     "text": [
      "你的总资产为: 1000\n",
      "请下注: 500\n",
      "玩家摇出了7点\n",
      "玩家胜!\n",
      "你的总资产为: 1500\n",
      "请下注: 500\n",
      "玩家摇出了8点\n",
      "玩家摇出了7点\n",
      "庄家胜\n",
      "你的总资产为: 1000\n",
      "请下注: 500\n",
      "玩家摇出了6点\n",
      "玩家摇出了10点\n",
      "玩家摇出了7点\n",
      "庄家胜\n",
      "你的总资产为: 500\n",
      "请下注: 500\n",
      "玩家摇出了2点\n",
      "庄家胜!\n",
      "你破产了, 游戏结束!\n"
     ]
    }
   ],
   "source": [
    "\"\"\"\n",
    "Craps赌博游戏\n",
    "玩家摇两颗色子 如果第一次摇出7点或11点 玩家胜\n",
    "如果摇出2点 3点 12点 庄家胜 其他情况游戏继续\n",
    "\n",
    "玩家再次要色子 如果摇出7点 庄家胜\n",
    "如果摇出第一次摇的点数 玩家胜\n",
    "否则游戏继续 玩家继续摇色子\n",
    "玩家进入游戏时有1000元的赌注 全部输光游戏结束\n",
    "Version: 0.1\n",
    "Author: Akman Li\n",
    "Date: 2019-06-02\n",
    "\"\"\"\n",
    "from random import randint\n",
    "\n",
    "money = 1000\n",
    "while money > 0:\n",
    "    print('你的总资产为:', money)\n",
    "    needs_go_on = False\n",
    "    while True:\n",
    "        debt = int(input('请下注: '))\n",
    "        if debt > 0 and debt <= money:\n",
    "            break\n",
    "    first = randint(1, 6) + randint(1, 6)\n",
    "    print('玩家摇出了%d点' % first)\n",
    "    if first == 7 or first == 11:\n",
    "        print('玩家胜!')\n",
    "        money += debt\n",
    "    elif first == 2 or first == 3 or first == 12:\n",
    "        print('庄家胜!')\n",
    "        money -= debt\n",
    "    else:\n",
    "        needs_go_on = True\n",
    "\n",
    "    while needs_go_on:\n",
    "        current = randint(1, 6) + randint(1, 6)\n",
    "        print('玩家摇出了%d点' % current)\n",
    "        if current == 7:\n",
    "            print('庄家胜')\n",
    "            money -= debt\n",
    "            needs_go_on = False\n",
    "        elif current == first:\n",
    "            print('玩家胜')\n",
    "            money += debt\n",
    "            needs_go_on = False\n",
    "\n",
    "print('你破产了, 游戏结束!')"
   ]
  },
  {
   "cell_type": "code",
   "execution_count": 3,
   "metadata": {
    "ExecuteTime": {
     "end_time": "2019-06-02T12:05:53.157411Z",
     "start_time": "2019-06-02T12:05:53.150410Z"
    }
   },
   "outputs": [
    {
     "name": "stdout",
     "output_type": "stream",
     "text": [
      "[1, 1, 2, 3, 5, 8, 13, 21, 34, 55, 89, 144, 233, 377, 610, 987, 1597, 2584, 4181, 6765, 10946]\n"
     ]
    }
   ],
   "source": [
    "\"\"\"\n",
    "输出斐波那契数列的前20个数\n",
    "1 1 2 3 5 8 13 21 ...\n",
    "Version: 0.1\n",
    "Author: Akman Li\n",
    "Date: 2019-06-02\n",
    "\"\"\"\n",
    "flag=0\n",
    "x=1\n",
    "y=1\n",
    "lst = [1,1]\n",
    "while True:\n",
    "    flag+=1\n",
    "    x,y=y,x+y\n",
    "    if flag==20:\n",
    "        break\n",
    "    lst.append(y)\n",
    "print(lst)"
   ]
  },
  {
   "cell_type": "code",
   "execution_count": 4,
   "metadata": {
    "ExecuteTime": {
     "end_time": "2019-06-02T12:06:07.172212Z",
     "start_time": "2019-06-02T12:05:53.160411Z"
    }
   },
   "outputs": [
    {
     "name": "stdout",
     "output_type": "stream",
     "text": [
      "pls input:50\n",
      "小一点！\n",
      "pls input:25\n",
      "大一点！\n",
      "pls input:40\n",
      "小一点！\n",
      "pls input:35\n",
      "小一点！\n",
      "pls input:30\n",
      "猜对了！\n",
      "总共猜了5次\n"
     ]
    }
   ],
   "source": [
    "\"\"\"\n",
    "猜数字游戏\n",
    "计算机出一个1~100之间的随机数由人来猜\n",
    "计算机根据人猜的数字分别给出提示大一点/小一点/猜对了\n",
    "Version: 0.1\n",
    "Author: Akman Li\n",
    "Date: 2019-06-02\n",
    "\"\"\"\n",
    "\n",
    "import random\n",
    "\n",
    "x = random.randint(1,101)\n",
    "\n",
    "counter = 0\n",
    "while True:\n",
    "    counter+=1\n",
    "    y = int(input('pls input:'))\n",
    "    if x>y:\n",
    "        print('大一点！')\n",
    "    elif x<y:\n",
    "        print('小一点！')\n",
    "    else:\n",
    "        print('猜对了！')\n",
    "        break\n",
    "print('总共猜了{}次'.format(counter))"
   ]
  },
  {
   "cell_type": "code",
   "execution_count": 5,
   "metadata": {
    "ExecuteTime": {
     "end_time": "2019-06-02T12:06:07.185213Z",
     "start_time": "2019-06-02T12:06:07.174212Z"
    }
   },
   "outputs": [
    {
     "name": "stdout",
     "output_type": "stream",
     "text": [
      "153\n",
      "370\n",
      "371\n",
      "407\n"
     ]
    }
   ],
   "source": [
    "\"\"\"\n",
    "找出100~999之间的所有水仙花数\n",
    "水仙花数是各位立方和等于这个数本身的数\n",
    "如: 153 = 1**3 + 5**3 + 3**3\n",
    "Version: 0.1\n",
    "Author: Akman Li\n",
    "Date: 2019-06-02\n",
    "\"\"\"\n",
    "\n",
    "for i in range(100,1000):\n",
    "    s=str(i)\n",
    "    if int(s[0])**3+int(s[1])**3+int(s[2])**3==i:\n",
    "         print(i)\n",
    "        "
   ]
  },
  {
   "cell_type": "code",
   "execution_count": 6,
   "metadata": {
    "ExecuteTime": {
     "end_time": "2019-06-02T12:06:10.149382Z",
     "start_time": "2019-06-02T12:06:07.186213Z"
    }
   },
   "outputs": [
    {
     "name": "stdout",
     "output_type": "stream",
     "text": [
      "pls input:15851\n",
      "是回文数！\n"
     ]
    }
   ],
   "source": [
    "\"\"\"\n",
    "判断输入的正整数是不是回文数\n",
    "回文数是指将一个正整数从左往右排列和从右往左排列值一样的数\n",
    "Version: 0.1\n",
    "Author: Akman Li\n",
    "Date: 2019-06-02\n",
    "\"\"\"\n",
    "\n",
    "x = int(input('pls input:'))\n",
    "if x<0:\n",
    "    print('不是回文数！')\n",
    "else:\n",
    "    x = str(x)\n",
    "    y = x[::-1]\n",
    "    if int(x)==int(y):\n",
    "        print('是回文数！')"
   ]
  },
  {
   "cell_type": "code",
   "execution_count": 7,
   "metadata": {
    "ExecuteTime": {
     "end_time": "2019-06-02T12:06:10.266389Z",
     "start_time": "2019-06-02T12:06:10.151383Z"
    }
   },
   "outputs": [
    {
     "name": "stdout",
     "output_type": "stream",
     "text": [
      "28\n",
      "496\n",
      "8128\n"
     ]
    }
   ],
   "source": [
    "\"\"\"\n",
    "找出1~9999之间的所有完美数\n",
    "完美数是除自身外其他所有因子的和正好等于这个数本身的数\n",
    "例如: 6 = 1 + 2 + 3, 28 = 1 + 2 + 4 + 7 + 14\n",
    "Version: 0.1\n",
    "Author: Akman Li\n",
    "Date: 2019-06-02\n",
    "\"\"\"\n",
    "import math\n",
    "\n",
    "for x in range(1,10000):\n",
    "    sum=0\n",
    "    for y in range(1,int(math.sqrt(x))):\n",
    "        if x%y==0:\n",
    "            sum+=y\n",
    "            if y>1 and x/y!=y:\n",
    "                sum+=x/y\n",
    "    if sum == x:\n",
    "        print(x)"
   ]
  },
  {
   "cell_type": "code",
   "execution_count": 8,
   "metadata": {
    "ExecuteTime": {
     "end_time": "2019-06-02T12:06:10.277390Z",
     "start_time": "2019-06-02T12:06:10.268389Z"
    }
   },
   "outputs": [
    {
     "name": "stdout",
     "output_type": "stream",
     "text": [
      "2 3 5 7 11 13 17 19 23 29 31 37 41 43 47 53 59 61 67 71 73 79 83 89 97 "
     ]
    }
   ],
   "source": [
    "\"\"\"\n",
    "输出2~99之间的素数\n",
    "Version: 0.1\n",
    "Author: Akman Li\n",
    "Date: 2019-06-02\n",
    "\"\"\"\n",
    "\n",
    "from math import sqrt\n",
    "\n",
    "for num in range(2,100):\n",
    "    is_prime = True\n",
    "    for x in range(2,int(sqrt(num)+1)):\n",
    "        if num%x==0:\n",
    "            is_prime = False\n",
    "            break\n",
    "    if is_prime:\n",
    "        print(num,end=' ')"
   ]
  },
  {
   "cell_type": "code",
   "execution_count": 9,
   "metadata": {
    "ExecuteTime": {
     "end_time": "2019-06-02T12:06:10.291391Z",
     "start_time": "2019-06-02T12:06:10.279390Z"
    }
   },
   "outputs": [
    {
     "name": "stdout",
     "output_type": "stream",
     "text": [
      "\n",
      "1*1=1\t\n",
      "2*1=2\t2*2=4\t\n",
      "3*1=3\t3*2=6\t3*3=9\t\n",
      "4*1=4\t4*2=8\t4*3=12\t4*4=16\t\n",
      "5*1=5\t5*2=10\t5*3=15\t5*4=20\t5*5=25\t\n",
      "6*1=6\t6*2=12\t6*3=18\t6*4=24\t6*5=30\t6*6=36\t\n",
      "7*1=7\t7*2=14\t7*3=21\t7*4=28\t7*5=35\t7*6=42\t7*7=49\t\n",
      "8*1=8\t8*2=16\t8*3=24\t8*4=32\t8*5=40\t8*6=48\t8*7=56\t8*8=64\t\n",
      "9*1=9\t9*2=18\t9*3=27\t9*4=36\t9*5=45\t9*6=54\t9*7=63\t9*8=72\t9*9=81\t\n"
     ]
    }
   ],
   "source": [
    "\"\"\"\n",
    "输出乘法口诀表(九九表)\n",
    "Version: 0.1\n",
    "Author: Akman Li\n",
    "Date: 2019-06-02\n",
    "\"\"\"\n",
    "\n",
    "for i in range(10):\n",
    "    for j in range(1,i+1):\n",
    "        print('{}*{}={}'.format(i,j,i*j),end='\\t')\n",
    "    print()"
   ]
  }
 ],
 "metadata": {
  "kernelspec": {
   "display_name": "Python 3",
   "language": "python",
   "name": "python3"
  },
  "language_info": {
   "codemirror_mode": {
    "name": "ipython",
    "version": 3
   },
   "file_extension": ".py",
   "mimetype": "text/x-python",
   "name": "python",
   "nbconvert_exporter": "python",
   "pygments_lexer": "ipython3",
   "version": "3.7.3"
  },
  "toc": {
   "base_numbering": 1,
   "nav_menu": {},
   "number_sections": true,
   "sideBar": true,
   "skip_h1_title": false,
   "title_cell": "Table of Contents",
   "title_sidebar": "Contents",
   "toc_cell": false,
   "toc_position": {},
   "toc_section_display": true,
   "toc_window_display": false
  }
 },
 "nbformat": 4,
 "nbformat_minor": 2
}
