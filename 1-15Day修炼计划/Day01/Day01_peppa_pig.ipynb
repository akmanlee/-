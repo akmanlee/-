{
 "cells": [
  {
   "cell_type": "code",
   "execution_count": 1,
   "metadata": {
    "ExecuteTime": {
     "end_time": "2019-05-22T15:34:34.468631Z",
     "start_time": "2019-05-22T15:34:34.428629Z"
    }
   },
   "outputs": [],
   "source": [
    "'''\n",
    "绘制小猪佩奇\n",
    "Version:0.1\n",
    "Author:Akman Li\n",
    "'''\n",
    "\n",
    "from turtle import *\n",
    "\n",
    "def nose(x,y):\n",
    "    '''\n",
    "    画鼻子\n",
    "    '''\n",
    "    penup()\n",
    "    #将海龟移动到指定的坐标\n",
    "    goto(x,y)\n",
    "    pendown()\n",
    "    #设置海龟的方向（0-东，90-北，180-西，270-南）\n",
    "    setheading(-30)\n",
    "    begin_fill()\n",
    "    a = 0.4\n",
    "    for i in range(120):\n",
    "        if 0<= i<30 or 60<=i<90:\n",
    "            a = a+0.08\n",
    "            #想左转3度\n",
    "            left(3)\n",
    "            #向前走\n",
    "            forward(a)\n",
    "        else:\n",
    "            a = a-0.08\n",
    "            left(3)\n",
    "            forward(a)\n",
    "    end_fill()\n",
    "    penup()\n",
    "    setheading(90)\n",
    "    forward(25)\n",
    "    setheading(0)\n",
    "    forward(10)\n",
    "    pendown()\n",
    "    #设置画笔的颜色 红-绿-蓝\n",
    "    pencolor(255,155,192)\n",
    "    setheading(10)\n",
    "    begin_fill()\n",
    "    circle(5)\n",
    "    color(160,82,45)\n",
    "    end_fill()\n",
    "    penup()\n",
    "    setheading(0)\n",
    "    forward(20)\n",
    "    pendown()\n",
    "    pencolor(255,155,192)\n",
    "    setheading(10)\n",
    "    begin_fill()\n",
    "    circle(5)\n",
    "    color(160,82,45)\n",
    "    end_fill()"
   ]
  },
  {
   "cell_type": "code",
   "execution_count": 2,
   "metadata": {
    "ExecuteTime": {
     "end_time": "2019-05-22T15:34:34.479631Z",
     "start_time": "2019-05-22T15:34:34.470631Z"
    }
   },
   "outputs": [],
   "source": [
    "def head(x,y):\n",
    "    '''\n",
    "    画头\n",
    "    '''\n",
    "    color((255,155,192),'pink')\n",
    "    penup()\n",
    "    goto(x,y)\n",
    "    setheading(0)\n",
    "    pendown()\n",
    "    begin_fill()\n",
    "    setheading(180)\n",
    "    circle(300,-30)\n",
    "    circle(100,-60)\n",
    "    circle(80,-100)\n",
    "    circle(150,-20)\n",
    "    circle(60,-95)\n",
    "    setheading(161)\n",
    "    circle(-300,15)\n",
    "    penup()\n",
    "    goto(-100,100)\n",
    "    pendown()\n",
    "    setheading(-30)\n",
    "    a=0.4\n",
    "    for i in range(60):\n",
    "        if 0<=i<30 or 60<=i<90:\n",
    "            a =a +0.08\n",
    "            left(3)#想左转3度\n",
    "            forward(a)#向前走a步\n",
    "        else:\n",
    "            a = a-0.08\n",
    "            left(3)\n",
    "            forward(a)\n",
    "    end_fill()"
   ]
  },
  {
   "cell_type": "code",
   "execution_count": 3,
   "metadata": {
    "ExecuteTime": {
     "end_time": "2019-05-22T15:34:34.489632Z",
     "start_time": "2019-05-22T15:34:34.481632Z"
    }
   },
   "outputs": [],
   "source": [
    "def ears(x,y):\n",
    "    \"\"\"画耳朵\"\"\"\n",
    "    color((255, 155, 192), \"pink\")\n",
    "    penup()\n",
    "    goto(x, y)\n",
    "    pendown()\n",
    "    begin_fill()\n",
    "    setheading(100)\n",
    "    circle(-50, 50)\n",
    "    circle(-10, 120)\n",
    "    circle(-50, 54)\n",
    "    end_fill()\n",
    "    penup()\n",
    "    setheading(90)\n",
    "    forward(-12)\n",
    "    setheading(0)\n",
    "    forward(30)\n",
    "    pendown()\n",
    "    begin_fill()\n",
    "    setheading(100)\n",
    "    circle(-50, 50)\n",
    "    circle(-10, 120)\n",
    "    circle(-50, 56)\n",
    "    end_fill()"
   ]
  },
  {
   "cell_type": "code",
   "execution_count": 4,
   "metadata": {
    "ExecuteTime": {
     "end_time": "2019-05-22T15:34:34.513633Z",
     "start_time": "2019-05-22T15:34:34.493632Z"
    }
   },
   "outputs": [],
   "source": [
    "def eyes(x,y):\n",
    "    \"\"\"画眼睛\"\"\"\n",
    "    color((255, 155, 192), \"white\")\n",
    "    penup()\n",
    "    setheading(90)\n",
    "    forward(-20)\n",
    "    setheading(0)\n",
    "    forward(-95)\n",
    "    pendown()\n",
    "    begin_fill()\n",
    "    circle(15)\n",
    "    end_fill()\n",
    "    color(\"black\")\n",
    "    penup()\n",
    "    setheading(90)\n",
    "    forward(12)\n",
    "    setheading(0)\n",
    "    forward(-3)\n",
    "    pendown()\n",
    "    begin_fill()\n",
    "    circle(3)\n",
    "    end_fill()\n",
    "    color((255, 155, 192), \"white\")\n",
    "    penup()\n",
    "    seth(90)\n",
    "    forward(-25)\n",
    "    seth(0)\n",
    "    forward(40)\n",
    "    pendown()\n",
    "    begin_fill()\n",
    "    circle(15)\n",
    "    end_fill()\n",
    "    color(\"black\")\n",
    "    penup()\n",
    "    setheading(90)\n",
    "    forward(12)\n",
    "    setheading(0)\n",
    "    forward(-3)\n",
    "    pendown()\n",
    "    begin_fill()\n",
    "    circle(3)\n",
    "    end_fill()"
   ]
  },
  {
   "cell_type": "code",
   "execution_count": 5,
   "metadata": {
    "ExecuteTime": {
     "end_time": "2019-05-22T15:34:34.521634Z",
     "start_time": "2019-05-22T15:34:34.516634Z"
    }
   },
   "outputs": [],
   "source": [
    "def cheek(x,y):\n",
    "    \"\"\"画脸颊\"\"\"\n",
    "    color((255, 155, 192))\n",
    "    penup()\n",
    "    goto(x,y)\n",
    "    pendown()\n",
    "    setheading(0)\n",
    "    begin_fill()\n",
    "    circle(30)\n",
    "    end_fill()"
   ]
  },
  {
   "cell_type": "code",
   "execution_count": 6,
   "metadata": {
    "ExecuteTime": {
     "end_time": "2019-05-22T15:34:34.533635Z",
     "start_time": "2019-05-22T15:34:34.524634Z"
    }
   },
   "outputs": [],
   "source": [
    "def mouth(x,y):\n",
    "    \"\"\"画嘴巴\"\"\"\n",
    "    color(239, 69, 19)\n",
    "    penup()\n",
    "    goto(x, y)\n",
    "    pendown()\n",
    "    setheading(-80)\n",
    "    circle(30, 40)\n",
    "    circle(40, 80)"
   ]
  },
  {
   "cell_type": "code",
   "execution_count": 7,
   "metadata": {
    "ExecuteTime": {
     "end_time": "2019-05-22T15:34:34.539635Z",
     "start_time": "2019-05-22T15:34:34.534635Z"
    }
   },
   "outputs": [],
   "source": [
    "def setting():\n",
    "    '''设置参数'''\n",
    "    pensize(4)\n",
    "    #隐藏海龟\n",
    "    hideturtle()\n",
    "    colormode(255)\n",
    "    color((255,155,192),'pink')\n",
    "    setup(840,500)\n",
    "    speed(10)"
   ]
  },
  {
   "cell_type": "code",
   "execution_count": 8,
   "metadata": {
    "ExecuteTime": {
     "end_time": "2019-05-22T15:34:34.549635Z",
     "start_time": "2019-05-22T15:34:34.542635Z"
    }
   },
   "outputs": [],
   "source": [
    "def main():\n",
    "    '''主函数'''\n",
    "    setting()\n",
    "    nose(-100,100)\n",
    "    head(-69,167)\n",
    "    ears(0,160)\n",
    "    eyes(0,140)\n",
    "    cheek(80,10)\n",
    "    mouth(-20,30)\n",
    "    done()"
   ]
  },
  {
   "cell_type": "code",
   "execution_count": 9,
   "metadata": {
    "ExecuteTime": {
     "end_time": "2019-05-22T15:35:12.643814Z",
     "start_time": "2019-05-22T15:34:34.551636Z"
    }
   },
   "outputs": [],
   "source": [
    "if __name__ == '__main__':\n",
    "    main()"
   ]
  }
 ],
 "metadata": {
  "kernelspec": {
   "display_name": "Python 3",
   "language": "python",
   "name": "python3"
  },
  "language_info": {
   "codemirror_mode": {
    "name": "ipython",
    "version": 3
   },
   "file_extension": ".py",
   "mimetype": "text/x-python",
   "name": "python",
   "nbconvert_exporter": "python",
   "pygments_lexer": "ipython3",
   "version": "3.7.3"
  },
  "toc": {
   "base_numbering": 1,
   "nav_menu": {},
   "number_sections": true,
   "sideBar": true,
   "skip_h1_title": false,
   "title_cell": "Table of Contents",
   "title_sidebar": "Contents",
   "toc_cell": false,
   "toc_position": {},
   "toc_section_display": true,
   "toc_window_display": false
  }
 },
 "nbformat": 4,
 "nbformat_minor": 2
}
