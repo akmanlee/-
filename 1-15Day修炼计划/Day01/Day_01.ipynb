{
 "cells": [
  {
   "cell_type": "markdown",
   "metadata": {},
   "source": [
    "# Day01--初识Python"
   ]
  },
  {
   "cell_type": "markdown",
   "metadata": {},
   "source": [
    "Python的优缺点<br>\n",
    "Python的优点很多，简单的可以总结为以下几点。<br>\n",
    "\n",
    "简单和明确，做一件事只有一种方法。<br>\n",
    "学习曲线低，跟其他很多语言相比，Python更容易上手。<br>\n",
    "开放源代码，拥有强大的社区和生态圈。<br>\n",
    "解释型语言，天生具有平台可移植性。<br>\n",
    "支持两种主流的编程范式（面向对象编程和函数式编程）都提供了支持。<br>\n",
    "可扩展性和可嵌入性，可以调用C/C++代码，也可以在C/C++中调用Python。<br>\n",
    "代码规范程度高，可读性强，适合有代码洁癖和强迫症的人群。<br>\n",
    "\n",
    "Python的缺点主要集中在以下几点。<br>\n",
    "执行效率稍低，因此计算密集型任务可以由C/C++编写。<br>\n",
    "代码无法加密，但是现在的公司很多都不是卖软件而是卖服务，这个问题会被淡化。<br>\n",
    "在开发时可以选择的框架太多（如Web框架就有100多个），有选择的地方就有错误。<br>"
   ]
  },
  {
   "cell_type": "markdown",
   "metadata": {},
   "source": [
    "Python的应用领域<br>\n",
    "目前Python在云基础设施、DevOps、网络爬虫开发、数据分析挖掘、机器学习等领域都有着广泛的应用，因此也产生了Web后端开发、数据接口开发、自动化运维、自动化测试、科学计算和可视化、数据分析、量化交易、机器人开发、图像识别和处理等一系列的职位。"
   ]
  },
  {
   "cell_type": "markdown",
   "metadata": {},
   "source": [
    "## 检查Python的版本"
   ]
  },
  {
   "cell_type": "code",
   "execution_count": 1,
   "metadata": {
    "ExecuteTime": {
     "end_time": "2019-05-22T15:13:18.191651Z",
     "start_time": "2019-05-22T15:13:18.171650Z"
    }
   },
   "outputs": [
    {
     "name": "stdout",
     "output_type": "stream",
     "text": [
      "sys.version_info(major=3, minor=7, micro=3, releaselevel='final', serial=0)\n",
      "3.7.3 (default, Mar 27 2019, 17:13:21) [MSC v.1915 64 bit (AMD64)]\n"
     ]
    }
   ],
   "source": [
    "import sys\n",
    "\n",
    "print(sys.version_info)\n",
    "print(sys.version)"
   ]
  },
  {
   "cell_type": "markdown",
   "metadata": {},
   "source": [
    "## 第一个Python程序"
   ]
  },
  {
   "cell_type": "code",
   "execution_count": 2,
   "metadata": {
    "ExecuteTime": {
     "end_time": "2019-05-22T15:13:18.205652Z",
     "start_time": "2019-05-22T15:13:18.194652Z"
    }
   },
   "outputs": [
    {
     "name": "stdout",
     "output_type": "stream",
     "text": [
      "hello,world!\n"
     ]
    }
   ],
   "source": [
    "print('hello,world!')"
   ]
  },
  {
   "cell_type": "markdown",
   "metadata": {},
   "source": [
    "## 代码中的注释"
   ]
  },
  {
   "cell_type": "code",
   "execution_count": 3,
   "metadata": {
    "ExecuteTime": {
     "end_time": "2019-05-22T15:13:18.216653Z",
     "start_time": "2019-05-22T15:13:18.207652Z"
    }
   },
   "outputs": [
    {
     "name": "stdout",
     "output_type": "stream",
     "text": [
      "hello,world!\n",
      "你好，世界！\n",
      "hello,world!goodbye,world!\n"
     ]
    }
   ],
   "source": [
    "#单行注释 - 以#和空格开头的部分\n",
    "#多行注释 - 三个引号开头，三个引号结尾\n",
    "\n",
    "'''\n",
    "第一个Python程序 - hello world\n",
    "Version:0.1\n",
    "Author:Akman Li\n",
    "'''\n",
    "\n",
    "print('hello,world!')#输出\n",
    "print('你好，世界！')\n",
    "print('hello','world',sep=',',end='!')\n",
    "print('goodbye,world',end='!\\n')"
   ]
  },
  {
   "cell_type": "markdown",
   "metadata": {},
   "source": [
    "# 练习"
   ]
  },
  {
   "cell_type": "code",
   "execution_count": 4,
   "metadata": {
    "ExecuteTime": {
     "end_time": "2019-05-22T15:13:18.230654Z",
     "start_time": "2019-05-22T15:13:18.218653Z"
    }
   },
   "outputs": [
    {
     "name": "stdout",
     "output_type": "stream",
     "text": [
      "The Zen of Python, by Tim Peters\n",
      "\n",
      "Beautiful is better than ugly.\n",
      "Explicit is better than implicit.\n",
      "Simple is better than complex.\n",
      "Complex is better than complicated.\n",
      "Flat is better than nested.\n",
      "Sparse is better than dense.\n",
      "Readability counts.\n",
      "Special cases aren't special enough to break the rules.\n",
      "Although practicality beats purity.\n",
      "Errors should never pass silently.\n",
      "Unless explicitly silenced.\n",
      "In the face of ambiguity, refuse the temptation to guess.\n",
      "There should be one-- and preferably only one --obvious way to do it.\n",
      "Although that way may not be obvious at first unless you're Dutch.\n",
      "Now is better than never.\n",
      "Although never is often better than *right* now.\n",
      "If the implementation is hard to explain, it's a bad idea.\n",
      "If the implementation is easy to explain, it may be a good idea.\n",
      "Namespaces are one honking great idea -- let's do more of those!\n"
     ]
    }
   ],
   "source": [
    "import this"
   ]
  },
  {
   "cell_type": "code",
   "execution_count": 5,
   "metadata": {
    "ExecuteTime": {
     "end_time": "2019-05-22T15:13:28.759256Z",
     "start_time": "2019-05-22T15:13:18.232654Z"
    }
   },
   "outputs": [],
   "source": [
    "# 使用turtle在屏幕上绘制图形\n",
    "\n",
    "import turtle\n",
    "\n",
    "turtle.pensize(4)\n",
    "turtle.pencolor('red')\n",
    "turtle.forward(100)\n",
    "turtle.right(90)\n",
    "turtle.forward(100)\n",
    "turtle.right(90)\n",
    "turtle.forward(100)\n",
    "turtle.right(90)\n",
    "turtle.mainloop()"
   ]
  }
 ],
 "metadata": {
  "kernelspec": {
   "display_name": "Python 3",
   "language": "python",
   "name": "python3"
  },
  "language_info": {
   "codemirror_mode": {
    "name": "ipython",
    "version": 3
   },
   "file_extension": ".py",
   "mimetype": "text/x-python",
   "name": "python",
   "nbconvert_exporter": "python",
   "pygments_lexer": "ipython3",
   "version": "3.7.3"
  },
  "toc": {
   "base_numbering": 1,
   "nav_menu": {},
   "number_sections": true,
   "sideBar": true,
   "skip_h1_title": false,
   "title_cell": "Table of Contents",
   "title_sidebar": "Contents",
   "toc_cell": false,
   "toc_position": {},
   "toc_section_display": true,
   "toc_window_display": false
  }
 },
 "nbformat": 4,
 "nbformat_minor": 2
}
