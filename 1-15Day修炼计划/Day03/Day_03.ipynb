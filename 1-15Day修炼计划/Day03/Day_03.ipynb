{
 "cells": [
  {
   "cell_type": "markdown",
   "metadata": {},
   "source": [
    "# 分支结构"
   ]
  },
  {
   "cell_type": "markdown",
   "metadata": {},
   "source": [
    "## if语句的使用"
   ]
  },
  {
   "cell_type": "code",
   "execution_count": 3,
   "metadata": {
    "ExecuteTime": {
     "end_time": "2019-05-29T02:06:46.738457Z",
     "start_time": "2019-05-29T02:06:41.971184Z"
    }
   },
   "outputs": [
    {
     "name": "stdout",
     "output_type": "stream",
     "text": [
      "请输入用户名：admin\n",
      "请输入密码：123456\n",
      "身份验证成功！\n"
     ]
    }
   ],
   "source": [
    "'''\n",
    "用户身份验证\n",
    "Author:Akman Li\n",
    "Date:2019-5-29\n",
    "'''\n",
    "\n",
    "username = input('请输入用户名：')\n",
    "password = input('请输入密码：')\n",
    "#如果希望输入口令时，终端没有回显，可以用getpass模块的getpass函数\n",
    "#import getpass\n",
    "#password = getpass.getpass('请输入口令:')\n",
    "if username == 'admin' and password == '123456':\n",
    "    print('身份验证成功！')\n",
    "else:\n",
    "    print('身份验证失败！')"
   ]
  },
  {
   "cell_type": "code",
   "execution_count": 5,
   "metadata": {
    "ExecuteTime": {
     "end_time": "2019-05-29T02:11:54.044004Z",
     "start_time": "2019-05-29T02:11:52.499916Z"
    }
   },
   "outputs": [
    {
     "name": "stdout",
     "output_type": "stream",
     "text": [
      "x = 3.5\n",
      "f(3.50) = 5.50\n"
     ]
    }
   ],
   "source": [
    "\"\"\"\n",
    "分段函数求值\n",
    "\n",
    "        3x - 5  (x > 1)\n",
    "f(x) =  x + 2   (-1 <= x <= 1)\n",
    "        5x + 3  (x < -1)\n",
    "\n",
    "Version: 0.1\n",
    "Author: Akman Li\n",
    "\"\"\"\n",
    "\n",
    "x = float(input('x = '))\n",
    "if x>1:\n",
    "    y = 3*x -5\n",
    "elif x>=-1:\n",
    "    y = x+ 2\n",
    "else:\n",
    "    5*x + 3\n",
    "print('f({:.2f}) = {:.2f}'.format(x,y))"
   ]
  },
  {
   "cell_type": "code",
   "execution_count": 7,
   "metadata": {
    "ExecuteTime": {
     "end_time": "2019-05-29T02:15:42.648080Z",
     "start_time": "2019-05-29T02:15:40.414952Z"
    }
   },
   "outputs": [
    {
     "name": "stdout",
     "output_type": "stream",
     "text": [
      "x = 3.5\n",
      "f(3.50) = 5.50\n"
     ]
    }
   ],
   "source": [
    "\"\"\"\n",
    "分段函数求值\n",
    "        3x - 5  (x > 1)\n",
    "f(x) =  x + 2   (-1 <= x <= 1)\n",
    "        5x + 3  (x < -1)\n",
    "\n",
    "Version: 0.1\n",
    "Author: Akman Li\n",
    "\"\"\"\n",
    "x = float(input('x = '))\n",
    "if x>1:\n",
    "    y = 3 * x - 5\n",
    "else:\n",
    "    if x>=-1:\n",
    "        y = x + 2\n",
    "    else:\n",
    "        y = 5 * x + 3\n",
    "print('f({:.2f}) = {:.2f}'.format(x,y))    "
   ]
  },
  {
   "cell_type": "markdown",
   "metadata": {},
   "source": [
    "## 练习1：英制单位与公制单位互换"
   ]
  },
  {
   "cell_type": "code",
   "execution_count": 11,
   "metadata": {
    "ExecuteTime": {
     "end_time": "2019-05-29T02:22:57.427948Z",
     "start_time": "2019-05-29T02:22:52.891688Z"
    }
   },
   "outputs": [
    {
     "name": "stdout",
     "output_type": "stream",
     "text": [
      "请输入长度：15\n",
      "请输入单位：cm\n",
      "15.0厘米 = 5.905511811023622英寸\n"
     ]
    }
   ],
   "source": [
    "\"\"\"\n",
    "英制单位英寸和公制单位厘米互换\n",
    "\n",
    "Version: 0.1\n",
    "Author: Akman Li\n",
    "\"\"\"\n",
    "\n",
    "value = float(input('请输入长度：'))\n",
    "unit = input('请输入单位：')\n",
    "if unit == 'in' or unit =='英寸':\n",
    "    print('{}英寸 = {}厘米'.format(value,value*2.54))\n",
    "if unit == 'cm' or unit =='厘米':\n",
    "    print('{}厘米 = {}英寸'.format(value,value/2.54))\n",
    "else:\n",
    "    print('请输入有效单位！')"
   ]
  },
  {
   "cell_type": "markdown",
   "metadata": {},
   "source": [
    "## 练习2：掷骰子决定做什么"
   ]
  },
  {
   "cell_type": "code",
   "execution_count": 20,
   "metadata": {
    "ExecuteTime": {
     "end_time": "2019-05-29T02:26:07.231804Z",
     "start_time": "2019-05-29T02:26:07.226804Z"
    }
   },
   "outputs": [
    {
     "name": "stdout",
     "output_type": "stream",
     "text": [
      "做俯卧撑\n"
     ]
    }
   ],
   "source": [
    "\"\"\"\n",
    "掷骰子决定做什么事情\n",
    "\n",
    "Version: 0.1\n",
    "Author: Akman Li\n",
    "\"\"\"\n",
    "\n",
    "from random import randint\n",
    "\n",
    "face = randint(1,6)\n",
    "if face == 1:\n",
    "    result = 'singing'\n",
    "elif face ==2:\n",
    "    result = 'dancing'\n",
    "elif face ==3:\n",
    "    result = '学狗叫'\n",
    "elif face ==4:\n",
    "    result = '做俯卧撑'\n",
    "elif face ==5:\n",
    "    result = '绕口令'\n",
    "else:\n",
    "    result = '讲笑话'\n",
    "print(result)"
   ]
  },
  {
   "cell_type": "markdown",
   "metadata": {},
   "source": [
    "## 练习3：百分制成绩转等级制"
   ]
  },
  {
   "cell_type": "code",
   "execution_count": 24,
   "metadata": {
    "ExecuteTime": {
     "end_time": "2019-05-29T02:29:14.814533Z",
     "start_time": "2019-05-29T02:29:12.420396Z"
    }
   },
   "outputs": [
    {
     "name": "stdout",
     "output_type": "stream",
     "text": [
      "请输入成绩：65\n",
      "对应的等级是： D\n"
     ]
    }
   ],
   "source": [
    "\"\"\"\n",
    "百分制成绩转等级制成绩\n",
    "90分以上    --> A\n",
    "80分~89分    --> B\n",
    "70分~79分\t   --> C\n",
    "60分~69分    --> D\n",
    "60分以下    --> E\n",
    "\n",
    "Version: 0.1\n",
    "Author: Akman Li\n",
    "\"\"\"\n",
    "\n",
    "score = float(input('请输入成绩：'))\n",
    "if score>=90:\n",
    "    grade = 'A'\n",
    "elif score>=80:\n",
    "    grade = 'B'\n",
    "elif score>=70:\n",
    "    grade = 'C'\n",
    "elif score>=60:\n",
    "    grade = 'D'\n",
    "else:\n",
    "    grade = 'E'\n",
    "print('对应的等级是：',grade)"
   ]
  },
  {
   "cell_type": "markdown",
   "metadata": {},
   "source": [
    "##  练习4：输入三条边长如果能构成三角形就计算周长和面积"
   ]
  },
  {
   "cell_type": "code",
   "execution_count": 25,
   "metadata": {
    "ExecuteTime": {
     "end_time": "2019-05-29T02:47:41.279819Z",
     "start_time": "2019-05-29T02:47:33.890397Z"
    }
   },
   "outputs": [
    {
     "name": "stdout",
     "output_type": "stream",
     "text": [
      "a = 3\n",
      "b = 4\n",
      "c = 5\n",
      "周长：12.0\n",
      "面积：6.0\n"
     ]
    }
   ],
   "source": [
    "\"\"\"\n",
    "判断输入的边长能否构成三角形\n",
    "如果能则计算出三角形的周长和面积\n",
    "\n",
    "Version: 0.1\n",
    "Author: Akman Li\n",
    "\"\"\"\n",
    "\n",
    "import math\n",
    "\n",
    "a = float(input('a = '))\n",
    "b = float(input('b = '))\n",
    "c = float(input('c = '))\n",
    "if a+b>c and a+c>b and b+c>a:\n",
    "    print('周长：{}'.format(a+b+c))\n",
    "    p = (a+b+c)/2\n",
    "    area = math.sqrt(p*(p-a)*(p-b)*(p-c)) #海伦公式\n",
    "    print('面积：{}'.format(area))\n",
    "else:\n",
    "    print('不能构成三角形')"
   ]
  },
  {
   "cell_type": "markdown",
   "metadata": {},
   "source": [
    "## 练习5：个人所得税计算器"
   ]
  },
  {
   "cell_type": "code",
   "execution_count": 27,
   "metadata": {
    "ExecuteTime": {
     "end_time": "2019-05-29T02:55:44.751472Z",
     "start_time": "2019-05-29T02:55:41.326276Z"
    }
   },
   "outputs": [
    {
     "name": "stdout",
     "output_type": "stream",
     "text": [
      "本月收入:5500\n",
      "五险一金:500\n",
      "个人所得税：￥45.00元\n",
      "实际到手收入:4955.00元\n"
     ]
    }
   ],
   "source": [
    "\"\"\"\n",
    "输入月收入和五险一金计算个人所得税\n",
    "\n",
    "Version: 0.1\n",
    "Author: Akman Li\n",
    "\"\"\"\n",
    "\n",
    "salary = float(input('本月收入:'))\n",
    "insurance = float(input('五险一金:'))\n",
    "diff = salary - insurance - 3500 #3500起征点\n",
    "if diff<=0:\n",
    "    rate = 0\n",
    "    deduction = 0\n",
    "elif diff < 1500:\n",
    "    rate = 0.03\n",
    "    deduction = 105\n",
    "elif diff < 4500:\n",
    "    rate = 0.1\n",
    "    deduction = 105\n",
    "elif diff <9000:\n",
    "    rate = 0.2\n",
    "    deduction = 555\n",
    "elif diff < 35000:\n",
    "    rate = 0.25\n",
    "    deduction = 1005\n",
    "elif diff < 55000:\n",
    "    rate = 0.3\n",
    "    deduction = 2755\n",
    "elif diff < 80000:\n",
    "    rate = 0.35\n",
    "    deduction = 5505\n",
    "else:\n",
    "    rate = 0.45\n",
    "    deduction = 13505\n",
    "tax = abs(diff * rate - deduction)\n",
    "print('个人所得税：￥{:.2f}元'.format(tax))\n",
    "print('实际到手收入:{:.2f}元'.format(diff+3500-tax))"
   ]
  }
 ],
 "metadata": {
  "kernelspec": {
   "display_name": "Python 3",
   "language": "python",
   "name": "python3"
  },
  "language_info": {
   "codemirror_mode": {
    "name": "ipython",
    "version": 3
   },
   "file_extension": ".py",
   "mimetype": "text/x-python",
   "name": "python",
   "nbconvert_exporter": "python",
   "pygments_lexer": "ipython3",
   "version": "3.7.3"
  },
  "toc": {
   "base_numbering": 1,
   "nav_menu": {},
   "number_sections": true,
   "sideBar": true,
   "skip_h1_title": false,
   "title_cell": "Table of Contents",
   "title_sidebar": "Contents",
   "toc_cell": false,
   "toc_position": {},
   "toc_section_display": true,
   "toc_window_display": false
  }
 },
 "nbformat": 4,
 "nbformat_minor": 2
}
