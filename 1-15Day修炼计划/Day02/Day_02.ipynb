{
 "cells": [
  {
   "cell_type": "markdown",
   "metadata": {},
   "source": [
    "# 变量和类型"
   ]
  },
  {
   "cell_type": "markdown",
   "metadata": {},
   "source": [
    "整型：Python中可以处理任意大小的整数（Python 2.x中有int和long两种类型的整数，但这种区分对Python来说意义不大，因此在Python 3.x中整数只有int这一种了），而且支持二进制（如0b100，换算成十进制是4）、八进制（如0o100，换算成十进制是64）、十进制（100）和十六进制（0x100，换算成十进制是256）的表示法。"
   ]
  },
  {
   "cell_type": "markdown",
   "metadata": {},
   "source": [
    "浮点型：浮点数也就是小数，之所以称为浮点数，是因为按照科学记数法表示时，一个浮点数的小数点位置是可变的，浮点数除了数学写法（如123.456）之外还支持科学计数法（如1.23456e2）。"
   ]
  },
  {
   "cell_type": "markdown",
   "metadata": {},
   "source": [
    "字符串型：字符串是以单引号或双引号括起来的任意文本，比如'hello'和\"hello\",字符串还有原始字符串表示法、字节字符串表示法、Unicode字符串表示法，而且可以书写成多行的形式（用三个单引号或三个双引号开头，三个单引号或三个双引号结尾）。"
   ]
  },
  {
   "cell_type": "markdown",
   "metadata": {},
   "source": [
    "布尔型：布尔值只有True、False两种值，要么是True，要么是False，在Python中，可以直接用True、False表示布尔值（请注意大小写），也可以通过布尔运算计算出来（例如3 < 5会产生布尔值True，而2 == 1会产生布尔值False）。"
   ]
  },
  {
   "cell_type": "markdown",
   "metadata": {},
   "source": [
    "复数型：形如3+5j，跟数学上的复数表示一样，唯一不同的是虚部的i换成了j。"
   ]
  },
  {
   "cell_type": "markdown",
   "metadata": {},
   "source": [
    "# 变量命名"
   ]
  },
  {
   "cell_type": "markdown",
   "metadata": {},
   "source": [
    "硬性规则：<br>\n",
    "变量名由字母（广义的Unicode字符，不包括特殊字符）、数字和下划线构成，数字不能开头。<br>\n",
    "大小写敏感（大写的a和小写的A是两个不同的变量）。<br>\n",
    "不要跟关键字（有特殊含义的单词，后面会讲到）和系统保留字（如函数、模块等的名字）冲突。"
   ]
  },
  {
   "cell_type": "markdown",
   "metadata": {
    "ExecuteTime": {
     "end_time": "2019-05-26T02:36:27.963132Z",
     "start_time": "2019-05-26T02:36:27.956132Z"
    }
   },
   "source": [
    "PEP 8要求：<br>\n",
    "用小写字母拼写，多个单词用下划线连接。<br>\n",
    "受保护的实例属性用单个下划线开头（后面会讲到）。<br>\n",
    "私有的实例属性用两个下划线开头（后面会讲到）。<br>"
   ]
  },
  {
   "cell_type": "code",
   "execution_count": 2,
   "metadata": {
    "ExecuteTime": {
     "end_time": "2019-05-26T02:38:50.892307Z",
     "start_time": "2019-05-26T02:38:50.871306Z"
    }
   },
   "outputs": [
    {
     "name": "stdout",
     "output_type": "stream",
     "text": [
      "444\n",
      "198\n",
      "39483\n",
      "2.6097560975609757\n",
      "2\n",
      "75\n",
      "199580904170858944588683464608694075062943107082809027605498347841561605181074274426665986623764972439807786764739130193391688887305693295698132008415537889753720415793877902074665765736230030622222862498385818118244547668141388643750880896837470534556730014314212951333550122949806119583030226121714710874561\n"
     ]
    }
   ],
   "source": [
    "'''\n",
    "使用变量保存数据并进行算术运算\n",
    "Version:0.1\n",
    "Author:Akman Li\n",
    "'''\n",
    "\n",
    "a = 321\n",
    "b = 123\n",
    "\n",
    "print(a+b)\n",
    "print(a-b)\n",
    "print(a*b)\n",
    "print(a/b)\n",
    "print(a//b)\n",
    "print(a%b)\n",
    "print(a**b)"
   ]
  },
  {
   "cell_type": "code",
   "execution_count": 3,
   "metadata": {
    "ExecuteTime": {
     "end_time": "2019-05-26T02:41:43.875201Z",
     "start_time": "2019-05-26T02:41:35.966749Z"
    }
   },
   "outputs": [
    {
     "name": "stdout",
     "output_type": "stream",
     "text": [
      "a=10\n",
      "b=15\n",
      "10 + 15 = 25\n",
      "10 - 15 = -5\n",
      "10 * 15 = 150\n",
      "10 / 15 = 0.666667\n",
      "10 // 15 = 0\n",
      "10 % 15 = 10\n",
      "10 ** 15 = 1000000000000000\n"
     ]
    }
   ],
   "source": [
    "'''\n",
    "使用input函数输入\n",
    "使用int()进行类型转换\n",
    "用占位符格式化输出的字符串\n",
    "\n",
    "Version:0.1\n",
    "Author:Akman Li\n",
    "'''\n",
    "\n",
    "a = int(input('a='))\n",
    "b = int(input('b='))\n",
    "print('%d + %d = %d' % (a, b, a+b))\n",
    "print('%d - %d = %d' % (a, b, a - b))\n",
    "print('%d * %d = %d' % (a, b, a * b))\n",
    "print('%d / %d = %f' % (a, b, a / b))\n",
    "print('%d // %d = %d' % (a, b, a // b))\n",
    "print('%d %% %d = %d' % (a, b, a % b))\n",
    "print('%d ** %d = %d' % (a, b, a ** b))"
   ]
  },
  {
   "cell_type": "code",
   "execution_count": 4,
   "metadata": {
    "ExecuteTime": {
     "end_time": "2019-05-26T02:43:38.751772Z",
     "start_time": "2019-05-26T02:43:38.745772Z"
    }
   },
   "outputs": [
    {
     "name": "stdout",
     "output_type": "stream",
     "text": [
      "<class 'int'>\n",
      "<class 'float'>\n",
      "<class 'complex'>\n",
      "<class 'str'>\n",
      "<class 'bool'>\n"
     ]
    }
   ],
   "source": [
    "'''\n",
    "使用type()检查变量的类型\n",
    "\n",
    "Version:0.1\n",
    "Author:Akman Li\n",
    "Date: 2019-05-26\n",
    "'''\n",
    "a = 100\n",
    "b = 12.345\n",
    "c = 1+5j\n",
    "d = 'hello,world'\n",
    "e = True\n",
    "print(type(a))\n",
    "print(type(b))\n",
    "print(type(c))\n",
    "print(type(d))\n",
    "print(type(e))"
   ]
  },
  {
   "cell_type": "markdown",
   "metadata": {},
   "source": [
    "int()：将一个数值或字符串转换成整数，可以指定进制。<br>\n",
    "float()：将一个字符串转换成浮点数。<br>\n",
    "str()：将指定的对象转换成字符串形式，可以指定编码。<br>\n",
    "chr()：将整数转换成该编码对应的字符串（一个字符）。<br>\n",
    "ord()：将字符串（一个字符）转换成对应的编码（整数）。<br>"
   ]
  },
  {
   "cell_type": "code",
   "execution_count": 5,
   "metadata": {
    "ExecuteTime": {
     "end_time": "2019-05-26T02:46:04.124087Z",
     "start_time": "2019-05-26T02:46:04.108086Z"
    }
   },
   "outputs": [
    {
     "name": "stdout",
     "output_type": "stream",
     "text": [
      "a =  9.6\n",
      "flag1 =  True\n",
      "flag2 =  False\n",
      "flag3 =  False\n",
      "flag4 =  True\n",
      "flag5 =  False\n",
      "True\n",
      "False\n"
     ]
    }
   ],
   "source": [
    "'''\n",
    "运算符的使用\n",
    "Version:0.1\n",
    "Author:Akman Li\n",
    "Date: 2019-05-26\n",
    "'''\n",
    "\n",
    "a = 5\n",
    "b = 10\n",
    "c = 3\n",
    "d = 4\n",
    "e = 5\n",
    "a += b\n",
    "a -= c\n",
    "a *= d\n",
    "a /= e\n",
    "print(\"a = \", a)\n",
    "\n",
    "flag1 = 3 > 2\n",
    "flag2 = 2 < 1\n",
    "flag3 = flag1 and flag2\n",
    "flag4 = flag1 or flag2\n",
    "flag5 = not flag1\n",
    "print(\"flag1 = \", flag1)\n",
    "print(\"flag2 = \", flag2)\n",
    "print(\"flag3 = \", flag3)\n",
    "print(\"flag4 = \", flag4)\n",
    "print(\"flag5 = \", flag5)\n",
    "print(flag1 is True)\n",
    "print(flag2 is not False)"
   ]
  },
  {
   "cell_type": "markdown",
   "metadata": {},
   "source": [
    "# 练习"
   ]
  },
  {
   "cell_type": "code",
   "execution_count": 8,
   "metadata": {
    "ExecuteTime": {
     "end_time": "2019-05-26T02:51:26.378519Z",
     "start_time": "2019-05-26T02:51:21.439236Z"
    }
   },
   "outputs": [
    {
     "name": "stdout",
     "output_type": "stream",
     "text": [
      "请输入华氏温度：105\n",
      "105.00华氏度 = 40.56摄氏度\n"
     ]
    }
   ],
   "source": [
    "#练习1：华氏温度转摄氏温度。\n",
    "'''\n",
    "讲华氏温度转换为摄氏温度\n",
    "F = 1.8C + 32\n",
    "Version:0.1\n",
    "Author:Akman Li\n",
    "Date: 2019-05-26\n",
    "'''\n",
    "\n",
    "f = float(input('请输入华氏温度：'))\n",
    "c = (f-32) / 1.8\n",
    "print('{:.2f}华氏度 = {:.2f}摄氏度'.format(f,c))"
   ]
  },
  {
   "cell_type": "code",
   "execution_count": 9,
   "metadata": {
    "ExecuteTime": {
     "end_time": "2019-05-26T02:54:26.044795Z",
     "start_time": "2019-05-26T02:54:19.457418Z"
    }
   },
   "outputs": [
    {
     "name": "stdout",
     "output_type": "stream",
     "text": [
      "请输入圆的半径：4\n",
      "园的周长是:25.13,面积是:50.27\n"
     ]
    }
   ],
   "source": [
    "# 练习2：输入圆的半径计算计算周长和面积。\n",
    "'''\n",
    "输入半径计算圆的周长和面积\n",
    "Version:0.1\n",
    "Author:Akman Li\n",
    "Date: 2019-05-26\n",
    "'''\n",
    "\n",
    "import math\n",
    "\n",
    "radius = float(input('请输入圆的半径：'))\n",
    "perimeter = 2* radius * math.pi\n",
    "area = math.pi * radius * radius\n",
    "\n",
    "print('园的周长是:{:.2f},面积是:{:.2f}'.format(perimeter,area))"
   ]
  },
  {
   "cell_type": "code",
   "execution_count": 10,
   "metadata": {
    "ExecuteTime": {
     "end_time": "2019-05-26T02:57:20.560777Z",
     "start_time": "2019-05-26T02:57:17.771617Z"
    }
   },
   "outputs": [
    {
     "name": "stdout",
     "output_type": "stream",
     "text": [
      "请输入年份：2012\n",
      "True\n"
     ]
    }
   ],
   "source": [
    "# 练习3：输入年份判断是不是闰年。\n",
    "\n",
    "'''\n",
    "输入年份判断是不是闰年\n",
    "Version:0.1\n",
    "Author:Akman Li\n",
    "Date: 2019-05-26\n",
    "'''\n",
    "\n",
    "year = int(input('请输入年份：'))\n",
    "# 如果代码太长写成一行不便于阅读 可以使用\\或()折行\n",
    "is_leap = (year % 4 ==0 and year % 100 !=0 or year % 400 ==0)\n",
    "print(is_leap)"
   ]
  },
  {
   "cell_type": "code",
   "execution_count": 13,
   "metadata": {
    "ExecuteTime": {
     "end_time": "2019-05-26T03:04:17.448621Z",
     "start_time": "2019-05-26T03:04:17.437621Z"
    }
   },
   "outputs": [
    {
     "name": "stdout",
     "output_type": "stream",
     "text": [
      "字符串的长度是:11\n",
      "单词的首字母大写:{} Hello,World\n",
      "字符串变成大写： HELLO,WORLD\n",
      "字符串是不是大写： True\n",
      "字符串是不是以xxx开头： False\n",
      "字符串是不是以xxx结尾： False\n",
      "Hello,World aaaaa\n"
     ]
    }
   ],
   "source": [
    "'''\n",
    "字符串的常用操作\n",
    "Version:0.1\n",
    "Author:Akman Li\n",
    "Date: 2019-05-26\n",
    "'''\n",
    "\n",
    "str1 = 'hello,world'\n",
    "print('字符串的长度是:{}'.format(len(str1)))\n",
    "print('单词的首字母大写:{}',format(str1.title()))\n",
    "print('字符串变成大写：',str1.upper())\n",
    "str1 = str1.upper()\n",
    "\n",
    "print('字符串是不是大写：',str1.isupper())\n",
    "print('字符串是不是以xxx开头：',str1.startswith('hello'))\n",
    "print('字符串是不是以xxx结尾：',str1.endswith('hello'))\n",
    "\n",
    "str2 = 'aaaaa'\n",
    "str3 = str1.title() + ' ' +str2.lower()\n",
    "\n",
    "print(str3)"
   ]
  }
 ],
 "metadata": {
  "kernelspec": {
   "display_name": "Python 3",
   "language": "python",
   "name": "python3"
  },
  "language_info": {
   "codemirror_mode": {
    "name": "ipython",
    "version": 3
   },
   "file_extension": ".py",
   "mimetype": "text/x-python",
   "name": "python",
   "nbconvert_exporter": "python",
   "pygments_lexer": "ipython3",
   "version": "3.7.3"
  },
  "toc": {
   "base_numbering": 1,
   "nav_menu": {},
   "number_sections": true,
   "sideBar": true,
   "skip_h1_title": false,
   "title_cell": "Table of Contents",
   "title_sidebar": "Contents",
   "toc_cell": false,
   "toc_position": {},
   "toc_section_display": true,
   "toc_window_display": false
  }
 },
 "nbformat": 4,
 "nbformat_minor": 2
}
