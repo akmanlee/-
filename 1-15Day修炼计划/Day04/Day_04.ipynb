{
 "cells": [
  {
   "cell_type": "markdown",
   "metadata": {},
   "source": [
    "循环结构"
   ]
  },
  {
   "cell_type": "markdown",
   "metadata": {},
   "source": [
    "# for-in循环"
   ]
  },
  {
   "cell_type": "code",
   "execution_count": 1,
   "metadata": {
    "ExecuteTime": {
     "end_time": "2019-06-02T09:01:15.814866Z",
     "start_time": "2019-06-02T09:01:15.777864Z"
    }
   },
   "outputs": [
    {
     "name": "stdout",
     "output_type": "stream",
     "text": [
      "5050\n"
     ]
    }
   ],
   "source": [
    "\"\"\"\n",
    "用for循环实现1~100求和\n",
    "\n",
    "Version: 0.1\n",
    "Author: Akman Li\n",
    "\"\"\"\n",
    "\n",
    "sum = 0\n",
    "for x in range(101):\n",
    "    sum += x\n",
    "print(sum)"
   ]
  },
  {
   "cell_type": "code",
   "execution_count": 4,
   "metadata": {
    "ExecuteTime": {
     "end_time": "2019-06-02T09:03:31.547629Z",
     "start_time": "2019-06-02T09:03:31.540628Z"
    }
   },
   "outputs": [
    {
     "name": "stdout",
     "output_type": "stream",
     "text": [
      "2550\n"
     ]
    }
   ],
   "source": [
    "\"\"\"\n",
    "用for循环实现1~100之间的偶数求和\n",
    "\n",
    "Version: 0.1\n",
    "Author: Akman Li\n",
    "\"\"\"\n",
    "\n",
    "sum = 0\n",
    "for x in range(2,101,2):\n",
    "    sum += x\n",
    "print(sum)"
   ]
  },
  {
   "cell_type": "code",
   "execution_count": 3,
   "metadata": {
    "ExecuteTime": {
     "end_time": "2019-06-02T09:03:19.380933Z",
     "start_time": "2019-06-02T09:03:19.373932Z"
    }
   },
   "outputs": [
    {
     "name": "stdout",
     "output_type": "stream",
     "text": [
      "2550\n"
     ]
    }
   ],
   "source": [
    "\"\"\"\n",
    "用for循环实现1~100之间的偶数求和\n",
    "\n",
    "Version: 0.2\n",
    "Author: Akman Li\n",
    "\"\"\"\n",
    "\n",
    "sum = 0\n",
    "for x in range(1,101):\n",
    "    if x%2==0:\n",
    "        sum += x\n",
    "print(sum)"
   ]
  },
  {
   "cell_type": "markdown",
   "metadata": {},
   "source": [
    "# while循环"
   ]
  },
  {
   "cell_type": "code",
   "execution_count": 10,
   "metadata": {
    "ExecuteTime": {
     "end_time": "2019-06-02T09:10:33.272747Z",
     "start_time": "2019-06-02T09:10:08.348322Z"
    }
   },
   "outputs": [
    {
     "name": "stdout",
     "output_type": "stream",
     "text": [
      "please input:50\n",
      "小一点！\n",
      "please input:25\n",
      "大一点！\n",
      "please input:35\n",
      "大一点！\n",
      "please input:40\n",
      "大一点！\n",
      "please input:45\n",
      "大一点！\n",
      "please input:48\n",
      "大一点！\n",
      "please input:49\n",
      "恭喜你 答对了！\n",
      "你总共猜了7次\n"
     ]
    }
   ],
   "source": [
    "\"\"\"\n",
    "猜数字游戏\n",
    "计算机出一个1~100之间的随机数由人来猜\n",
    "计算机根据人猜的数字分别给出提示大一点/小一点/猜对了\n",
    "\n",
    "Version: 0.1\n",
    "Author: Akman Li\n",
    "\"\"\"\n",
    "\n",
    "import random\n",
    "\n",
    "answer = random.randint(1,100)\n",
    "counter = 0\n",
    "while True:\n",
    "    counter += 1\n",
    "    number = int(input('please input:'))\n",
    "    if number < answer:\n",
    "        print('大一点！')\n",
    "    elif number > answer:\n",
    "        print('小一点！')\n",
    "    else:\n",
    "        print('恭喜你 答对了！')\n",
    "        break\n",
    "print('你总共猜了{}次'.format(counter))\n",
    "if counter > 7:\n",
    "    print('你的智商余额明显不足')"
   ]
  },
  {
   "cell_type": "code",
   "execution_count": 11,
   "metadata": {
    "ExecuteTime": {
     "end_time": "2019-06-02T09:13:07.673578Z",
     "start_time": "2019-06-02T09:13:07.664577Z"
    }
   },
   "outputs": [
    {
     "name": "stdout",
     "output_type": "stream",
     "text": [
      "1*1=1\t\n",
      "2*1=2\t2*2=4\t\n",
      "3*1=3\t3*2=6\t3*3=9\t\n",
      "4*1=4\t4*2=8\t4*3=12\t4*4=16\t\n",
      "5*1=5\t5*2=10\t5*3=15\t5*4=20\t5*5=25\t\n",
      "6*1=6\t6*2=12\t6*3=18\t6*4=24\t6*5=30\t6*6=36\t\n",
      "7*1=7\t7*2=14\t7*3=21\t7*4=28\t7*5=35\t7*6=42\t7*7=49\t\n",
      "8*1=8\t8*2=16\t8*3=24\t8*4=32\t8*5=40\t8*6=48\t8*7=56\t8*8=64\t\n",
      "9*1=9\t9*2=18\t9*3=27\t9*4=36\t9*5=45\t9*6=54\t9*7=63\t9*8=72\t9*9=81\t\n"
     ]
    }
   ],
   "source": [
    "\"\"\"\n",
    "输出乘法口诀表(九九表)\n",
    "\n",
    "Version: 0.1\n",
    "Author: Akman Li\n",
    "\"\"\"\n",
    "\n",
    "for i in range(1,10):\n",
    "    for j in range(1, i+1):\n",
    "        print('{}*{}={}'.format(i,j,i*j),end='\\t')\n",
    "    print()"
   ]
  },
  {
   "cell_type": "markdown",
   "metadata": {},
   "source": [
    "# 练习"
   ]
  },
  {
   "cell_type": "markdown",
   "metadata": {},
   "source": [
    "## 练习1：输入一个数判断是不是素数"
   ]
  },
  {
   "cell_type": "code",
   "execution_count": 13,
   "metadata": {
    "ExecuteTime": {
     "end_time": "2019-06-02T09:17:57.970175Z",
     "start_time": "2019-06-02T09:17:56.474089Z"
    }
   },
   "outputs": [
    {
     "name": "stdout",
     "output_type": "stream",
     "text": [
      "pls input:16\n",
      "16 is not prime!\n"
     ]
    }
   ],
   "source": [
    "\"\"\"\n",
    "输入一个正整数判断它是不是素数\n",
    "\n",
    "Version: 0.1\n",
    "Author: Akman Li\n",
    "Date: 2019-06-02\n",
    "\"\"\"\n",
    "\n",
    "from math import sqrt\n",
    "\n",
    "num = int(input('pls input:'))\n",
    "end = int(sqrt(num))\n",
    "is_prime = True\n",
    "for x in range(2, end+1):\n",
    "    if num % x ==0:\n",
    "        is_prime = False\n",
    "        break\n",
    "if is_prime and num !=1:\n",
    "    print('{} is prime!'.format(num))\n",
    "else:\n",
    "    print('{} is not prime!'.format(num))"
   ]
  },
  {
   "cell_type": "markdown",
   "metadata": {},
   "source": [
    "## 练习2：输入两个正整数，计算最大公约数和最小公倍数。"
   ]
  },
  {
   "cell_type": "code",
   "execution_count": 14,
   "metadata": {
    "ExecuteTime": {
     "end_time": "2019-06-02T09:51:10.614116Z",
     "start_time": "2019-06-02T09:51:06.229865Z"
    }
   },
   "outputs": [
    {
     "name": "stdout",
     "output_type": "stream",
     "text": [
      "x = 20\n",
      "y = 40\n",
      "20和40的最大公约数是20\n",
      "20和40的最小公倍数是40\n"
     ]
    }
   ],
   "source": [
    "\"\"\"\n",
    "输入两个正整数计算最大公约数和最小公倍数\n",
    "\n",
    "Version: 0.1\n",
    "Author: Akman Li\n",
    "Date: 2019-06-02\n",
    "\"\"\"\n",
    "\n",
    "x = int(input('x = '))\n",
    "y = int(input('y = '))\n",
    "if x>y:\n",
    "    x,y = y,x\n",
    "for factor in range(x,0,-1):\n",
    "    if x%factor ==0 and y%factor==0:\n",
    "        print('{}和{}的最大公约数是{}'.format(x,y,factor))\n",
    "        print('{}和{}的最小公倍数是{}'.format(x,y,x*y//factor))\n",
    "        break"
   ]
  },
  {
   "cell_type": "markdown",
   "metadata": {},
   "source": [
    "## 练习3：打印三角形图案。"
   ]
  },
  {
   "cell_type": "code",
   "execution_count": 20,
   "metadata": {
    "ExecuteTime": {
     "end_time": "2019-06-02T09:59:26.670488Z",
     "start_time": "2019-06-02T09:59:25.322411Z"
    }
   },
   "outputs": [
    {
     "name": "stdout",
     "output_type": "stream",
     "text": [
      "请输入行数：5\n",
      "*\n",
      "**\n",
      "***\n",
      "****\n",
      "*****\n",
      "    x\n",
      "   xx\n",
      "  xxx\n",
      " xxxx\n",
      "xxxxx\n",
      "    x\n",
      "   xxx\n",
      "  xxxxx\n",
      " xxxxxxx\n",
      "xxxxxxxxx\n"
     ]
    }
   ],
   "source": [
    "\"\"\"\n",
    "打印各种三角形图案\n",
    "Version: 0.1\n",
    "Author: Akman Li\n",
    "\"\"\"\n",
    "\n",
    "row = int(input('请输入行数：'))\n",
    "for i in range(row):\n",
    "    for _ in range(i+1):\n",
    "        print('*',end='')\n",
    "    print()\n",
    "    \n",
    "for i in range(row):\n",
    "    for j in range(row):\n",
    "        if j < row-i-1:\n",
    "            print(' ',end='')\n",
    "        else:\n",
    "            print('x',end='')\n",
    "    print()\n",
    "    \n",
    "for i in range(row):\n",
    "    for _ in range(row-i-1):\n",
    "        print(' ',end='')\n",
    "    for _ in range(2*i+1):\n",
    "        print('x', end='')\n",
    "    print()"
   ]
  }
 ],
 "metadata": {
  "kernelspec": {
   "display_name": "Python 3",
   "language": "python",
   "name": "python3"
  },
  "language_info": {
   "codemirror_mode": {
    "name": "ipython",
    "version": 3
   },
   "file_extension": ".py",
   "mimetype": "text/x-python",
   "name": "python",
   "nbconvert_exporter": "python",
   "pygments_lexer": "ipython3",
   "version": "3.7.3"
  },
  "toc": {
   "base_numbering": 1,
   "nav_menu": {},
   "number_sections": true,
   "sideBar": true,
   "skip_h1_title": false,
   "title_cell": "Table of Contents",
   "title_sidebar": "Contents",
   "toc_cell": false,
   "toc_position": {},
   "toc_section_display": true,
   "toc_window_display": false
  }
 },
 "nbformat": 4,
 "nbformat_minor": 2
}
